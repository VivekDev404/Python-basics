{
  "nbformat": 4,
  "nbformat_minor": 0,
  "metadata": {
    "colab": {
      "provenance": []
    },
    "kernelspec": {
      "name": "python3",
      "display_name": "Python 3"
    },
    "language_info": {
      "name": "python"
    }
  },
  "cells": [
    {
      "cell_type": "code",
      "execution_count": null,
      "metadata": {
        "id": "PNj7ykFb2Z3x"
      },
      "outputs": [],
      "source": []
    },
    {
      "cell_type": "markdown",
      "source": [
        "# Python Basics\n",
        "1.  What is Python, and why is it popular?\n",
        "   - Python is a programming language used for multi tasks like web development and data science. It is easy to learn and its efficiency well suited in data science and analytics.\n",
        "2.  What is an interpreter in Python?\n",
        "   - An interpreter can read and write the code into line by line and it translate into instructons in which a machine can understand.\n",
        "3.  What are pre-defined keywords in Python?\n",
        "   - Some keyword are predefined in python it has specific meaning an interpreter can understand like break,True,False.\n",
        "4.  Can keywords be used as variable names?\n",
        "   - No, keywords are not used as variable names, Keywords has specific meaning which interpreter can understand variable names are human understandable language is used.\n",
        "5.  What is mutability in Python?\n",
        "   - We can able to change the once its created in phthon is known as mutability.\n",
        "6.  Why are lists mutable, but tuples are immutable?\n",
        "   - Tuples uses parenthesis instead of square brackets so, It is immutable.\n",
        "   Lists uses square brackets it is mutable.\n",
        "7.  What is the difference between “==” and “is” operators in Python?\n",
        "   - \"==\" is a equity operator checks the values of two ojects are equal.\n",
        "   \"is\" a identity operator checks the variable of two objects are exactly same.\n",
        "8.   What are logical operators in Python?\n",
        "   - \"and\" \"or\" ,\"not\" are the logical operators used for boolean either true or false.\n",
        "9.   What is type casting in Python?\n",
        "   - It is used to convert variable datatypes to another datatype is kown as type casting?\n",
        "10.  What is the difference between implicit and explicit type casting?\n",
        "   - implicit can automatically convert variable datatype to another.\n",
        "   explicit can manually convert variable datatype to another.\n",
        "11.  What is the purpose of conditional statements in Python?\n",
        "   - It contol the flow of code execution.\n",
        "12.  How does the elif statement work?\n",
        "   - \"elif\" can work if its true if above \"if\" and \"else\" condition statements are false.\n",
        "13.  What is the difference between for and while loops?\n",
        "   - \"for\" loop is finite number of loop as we know the range of it.\n",
        "   \"while\" loop is infinite mumber of loop until the condition gets true.\n",
        "14.  Describe a scenario where a while loop is more suitable than a for loop?\n",
        "   - 'while' loop is better than 'for' loop infinte iteration are used until the condition gets true."
      ],
      "metadata": {
        "id": "kON7WOki6Uok"
      }
    },
    {
      "cell_type": "code",
      "source": [
        "#1 Write a Python program to print \"Hello, World!\"?\n",
        "print (\"Hello, World\")"
      ],
      "metadata": {
        "colab": {
          "base_uri": "https://localhost:8080/"
        },
        "collapsed": true,
        "id": "7JlwGt9Z6inT",
        "outputId": "f703e16c-fb64-4166-87b6-25429509927d"
      },
      "execution_count": 1,
      "outputs": [
        {
          "output_type": "stream",
          "name": "stdout",
          "text": [
            "Hello, World\n"
          ]
        }
      ]
    },
    {
      "cell_type": "code",
      "source": [
        "#2 Write a Python program that displays your name and age?\n",
        "name = input(\"enter your name: \")\n",
        "age = int(input(\"enter your age: \"))\n",
        "print(f\"my name is {name} and my age is {age}\" )"
      ],
      "metadata": {
        "colab": {
          "base_uri": "https://localhost:8080/"
        },
        "collapsed": true,
        "id": "_SP3ikd9Ubco",
        "outputId": "4b25babe-3f0a-4275-cd0c-06bf72fae769"
      },
      "execution_count": 6,
      "outputs": [
        {
          "output_type": "stream",
          "name": "stdout",
          "text": [
            "enter your name: lily\n",
            "enter your age: 20\n",
            "my name is lily and my age is 20\n"
          ]
        }
      ]
    },
    {
      "cell_type": "code",
      "source": [
        "#3 Write code to print all the pre-defined keywords in Python using the keyword library?\n",
        "import keyword\n",
        "print(keyword.kwlist)"
      ],
      "metadata": {
        "colab": {
          "base_uri": "https://localhost:8080/"
        },
        "collapsed": true,
        "id": "rjsGJofbWEVj",
        "outputId": "7a62e024-9547-4d2e-9f4b-e95e7428a43d"
      },
      "execution_count": 7,
      "outputs": [
        {
          "output_type": "stream",
          "name": "stdout",
          "text": [
            "['False', 'None', 'True', 'and', 'as', 'assert', 'async', 'await', 'break', 'class', 'continue', 'def', 'del', 'elif', 'else', 'except', 'finally', 'for', 'from', 'global', 'if', 'import', 'in', 'is', 'lambda', 'nonlocal', 'not', 'or', 'pass', 'raise', 'return', 'try', 'while', 'with', 'yield']\n"
          ]
        }
      ]
    },
    {
      "cell_type": "code",
      "source": [
        "#4 Write a program that checks if a given word is a Python keyword?\n",
        "import keyword\n",
        "word = input(\"enter the word: \")\n",
        "if keyword.iskeyword(word):\n",
        "    print(f\"{word} is a keyword\")\n",
        "else:\n",
        "  print(f\"{word} is not a keyword\")\n"
      ],
      "metadata": {
        "colab": {
          "base_uri": "https://localhost:8080/"
        },
        "collapsed": true,
        "id": "6fmld5VAZc15",
        "outputId": "d25fe1b5-7d9f-49a9-ebb3-723bc89e83d5"
      },
      "execution_count": 27,
      "outputs": [
        {
          "output_type": "stream",
          "name": "stdout",
          "text": [
            "enter the word: break\n",
            "break is a keyword\n"
          ]
        }
      ]
    },
    {
      "cell_type": "code",
      "source": [
        "#5 Create a list and tuple in Python, and demonstrate how attempting to change an element works differently for each.\n",
        "list = [\"shine\", \"glamour\", \"chetak\", \"splender plus\"]\n",
        "list[0] = \"jupiter\"\n",
        "print(list) #lists are mutable\n",
        "tuple = (\"shine\", \"glamour\", \"chetak\", \"splender plus\")\n",
        "#tuple[0] = \"jupiter\"   typeerror\n",
        "print(tuple) #tuples are immutable\n",
        "\n"
      ],
      "metadata": {
        "colab": {
          "base_uri": "https://localhost:8080/"
        },
        "collapsed": true,
        "id": "-A_XkZ6cZdl9",
        "outputId": "70274956-4af3-4e0a-ee75-c92d60285891"
      },
      "execution_count": 11,
      "outputs": [
        {
          "output_type": "stream",
          "name": "stdout",
          "text": [
            "['jupiter', 'glamour', 'chetak', 'splender plus']\n",
            "('shine', 'glamour', 'chetak', 'splender plus')\n"
          ]
        }
      ]
    },
    {
      "cell_type": "code",
      "source": [
        "# Write a program to demonstrate the use of logical operators?\n",
        "x = 5\n",
        "y = 9\n",
        "if x<4 and y>5:\n",
        "  print(\"true\")\n",
        "else:\n",
        "  print(\"false\")\n",
        "\n",
        "if x<10 or y>5:\n",
        "  print(\"true\")\n",
        "else:\n",
        "  print(\"false\")\n",
        "\n",
        "if not x<4:\n",
        "  print(\"true\")\n",
        "else:\n",
        "  print(\"false\")\n",
        "\n",
        "\n",
        "\n"
      ],
      "metadata": {
        "colab": {
          "base_uri": "https://localhost:8080/"
        },
        "collapsed": true,
        "id": "6ovdVZpSfQVe",
        "outputId": "3da1f372-9475-4096-dcb6-43d7a529fe69"
      },
      "execution_count": 12,
      "outputs": [
        {
          "output_type": "stream",
          "name": "stdout",
          "text": [
            "false\n",
            "true\n",
            "true\n"
          ]
        }
      ]
    },
    {
      "cell_type": "code",
      "source": [
        "# Write a Python program to convert user input from string to integer, float, and boolean types?\n",
        "user_input = input(\"enter the value: \")\n",
        "if user_input.isdigit():\n",
        "  print(int(user_input))\n",
        "else:\n",
        "  print(float(user_input))\n",
        "  print(bool(user_input))\n"
      ],
      "metadata": {
        "colab": {
          "base_uri": "https://localhost:8080/"
        },
        "collapsed": true,
        "id": "yta_K6H3smLh",
        "outputId": "53cf508f-5b10-4488-e22c-23b55bdf2956"
      },
      "execution_count": 28,
      "outputs": [
        {
          "output_type": "stream",
          "name": "stdout",
          "text": [
            "enter the value: 1\n",
            "1\n"
          ]
        }
      ]
    },
    {
      "cell_type": "code",
      "source": [
        "# Write code to demonstrate type casting with list elements?\n",
        "list = [\"1\", \"2\", \"3\"]\n",
        "new_list = [int(x) for x in list] # explicit type casting\n",
        "print(new_list)\n"
      ],
      "metadata": {
        "colab": {
          "base_uri": "https://localhost:8080/"
        },
        "collapsed": true,
        "id": "qZFjwuImu14d",
        "outputId": "43685e2f-42ee-46f0-fd23-a40af03e51ec"
      },
      "execution_count": 25,
      "outputs": [
        {
          "output_type": "stream",
          "name": "stdout",
          "text": [
            "[1, 2, 3]\n"
          ]
        }
      ]
    },
    {
      "cell_type": "code",
      "source": [
        "# Write a program that checks if a number is positive, negative, or zero\n",
        "num = int(input(\"enter the number: \"))\n",
        "if num > 0:\n",
        "    print(\"positive\")\n",
        "elif num == 0:\n",
        "    print(\"zero\")\n",
        "else:\n",
        "    print(\"negative\")\n",
        ""
      ],
      "metadata": {
        "colab": {
          "base_uri": "https://localhost:8080/"
        },
        "collapsed": true,
        "id": "CLe0GYSOxwaa",
        "outputId": "11de83cc-40cb-4bd9-9683-23e46d9947f8"
      },
      "execution_count": 29,
      "outputs": [
        {
          "output_type": "stream",
          "name": "stdout",
          "text": [
            "enter the number: 1\n",
            "positive\n"
          ]
        }
      ]
    },
    {
      "cell_type": "code",
      "source": [
        "# Write a for loop to print numbers from 1 to 10\n",
        "for i in range(1, 11):\n",
        "    print(i)"
      ],
      "metadata": {
        "colab": {
          "base_uri": "https://localhost:8080/"
        },
        "collapsed": true,
        "id": "zRXjg8wC1KLR",
        "outputId": "aa23068e-a6df-4d98-e52d-0df389f7b261"
      },
      "execution_count": 24,
      "outputs": [
        {
          "output_type": "stream",
          "name": "stdout",
          "text": [
            "1\n",
            "2\n",
            "3\n",
            "4\n",
            "5\n",
            "6\n",
            "7\n",
            "8\n",
            "9\n",
            "10\n"
          ]
        }
      ]
    },
    {
      "cell_type": "code",
      "source": [
        "#Write a Python program to find the sum of all even numbers between 1 and 50?\n",
        "total_sum = 0\n",
        "for number in range (2,50,2):\n",
        "    total_sum += number\n",
        "print(total_sum)\n"
      ],
      "metadata": {
        "colab": {
          "base_uri": "https://localhost:8080/"
        },
        "collapsed": true,
        "id": "pUCO6xIw2Zky",
        "outputId": "76591731-14a8-49a3-d218-4853cf83abc4"
      },
      "execution_count": 31,
      "outputs": [
        {
          "output_type": "stream",
          "name": "stdout",
          "text": [
            "600\n"
          ]
        }
      ]
    },
    {
      "cell_type": "code",
      "source": [
        "#Write a program to reverse a string using a while loop?\n",
        "original = \"Python\"\n",
        "reversed_str = \"\"\n",
        "i = -1  # last character (-1 index)\n",
        "\n",
        "while i >= -len(original):\n",
        "    reversed_str += original[i]\n",
        "    i -= 1\n",
        "\n",
        "print(reversed_str)"
      ],
      "metadata": {
        "colab": {
          "base_uri": "https://localhost:8080/"
        },
        "id": "dqHCmRFL4QJY",
        "outputId": "2fa50163-7c6b-425d-8eaf-69b40718e494"
      },
      "execution_count": 32,
      "outputs": [
        {
          "output_type": "stream",
          "name": "stdout",
          "text": [
            "nohtyP\n"
          ]
        }
      ]
    },
    {
      "cell_type": "code",
      "source": [
        "#  Write a Python program to calculate the factorial of a number provided by the user using a while loop.\n",
        "num = int(input(\"Enter a non-negative integer: \"))\n",
        "\n",
        "factorial = 1\n",
        "i = 1\n",
        "\n",
        "# Calculate factorial\n",
        "while i <= num:\n",
        "    factorial *= i\n",
        "    i += 1\n",
        "print(f\"The factorial of {num} is {factorial}\")"
      ],
      "metadata": {
        "colab": {
          "base_uri": "https://localhost:8080/"
        },
        "id": "axhmVJOO5xIS",
        "outputId": "405dc103-e5b2-440e-d358-ecb27411e208"
      },
      "execution_count": 34,
      "outputs": [
        {
          "output_type": "stream",
          "name": "stdout",
          "text": [
            "Enter a non-negative integer: 4\n",
            "The factorial of 4 is 24\n"
          ]
        }
      ]
    }
  ]
}